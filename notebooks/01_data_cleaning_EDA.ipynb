{
<<<<<<< Updated upstream
 "cells": [],
 "metadata": {
  "language_info": {
   "name": "python"
  }
 },
 "nbformat": 4,
 "nbformat_minor": 5
=======
 "cells": [
  {
   "cell_type": "code",
   "execution_count": 18,
   "metadata": {},
   "outputs": [],
   "source": [
    "import pandas as pd\n",
    "import numpy as np\n",
    "import networkx as nx\n",
    "import sys\n",
    "import os\n",
    "sys.path.append(os.path.abspath(os.path.join(os.getcwd(), '..')))"
   ]
  },
  {
   "cell_type": "code",
   "execution_count": 20,
   "metadata": {},
   "outputs": [
    {
     "data": {
      "application/vnd.microsoft.datawrangler.viewer.v0+json": {
       "columns": [
        {
         "name": "index",
         "rawType": "int64",
         "type": "integer"
        },
        {
         "name": "Source",
         "rawType": "object",
         "type": "string"
        },
        {
         "name": "Target",
         "rawType": "object",
         "type": "string"
        },
        {
         "name": "Type",
         "rawType": "object",
         "type": "string"
        },
        {
         "name": "Weight",
         "rawType": "int64",
         "type": "integer"
        }
       ],
       "ref": "a5b76b5f-5297-4986-af39-a78f752e528e",
       "rows": [
        [
         "0",
         "visitorfi5kl7q7i",
         "uisspxbl7ipc5bet",
         "Directed",
         "1"
        ],
        [
         "1",
         "visitorfi5kl7q7i",
         "xidp5a5k3rlxr5r3",
         "Directed",
         "1"
        ],
        [
         "2",
         "visitorfi5kl7q7i",
         "7uvijlsswycvih2p",
         "Directed",
         "1"
        ],
        [
         "3",
         "visitorfi5kl7q7i",
         "4oy7nsv57l3ragqz",
         "Directed",
         "1"
        ],
        [
         "4",
         "visitorfi5kl7q7i",
         "prometh5th5t5rfd",
         "Directed",
         "1"
        ],
        [
         "5",
         "visitorfi5kl7q7i",
         "bdpuqvl2ksq2vzs3",
         "Directed",
         "1"
        ],
        [
         "6",
         "visitorfi5kl7q7i",
         "yipeptidsl75eri7",
         "Directed",
         "1"
        ],
        [
         "7",
         "visitorfi5kl7q7i",
         "lubzpslfl3nnvqzn",
         "Directed",
         "1"
        ],
        [
         "8",
         "visitorfi5kl7q7i",
         "22ozauzmrn3zxkog",
         "Directed",
         "1"
        ],
        [
         "9",
         "visitorfi5kl7q7i",
         "imb27556jpb6g65j",
         "Directed",
         "1"
        ],
        [
         "10",
         "visitorfi5kl7q7i",
         "phmsga42i3bom7xu",
         "Directed",
         "1"
        ],
        [
         "11",
         "visitorfi5kl7q7i",
         "yowlss6f6fvpd4e6",
         "Directed",
         "1"
        ],
        [
         "12",
         "visitorfi5kl7q7i",
         "udsmewv45lunzoo4",
         "Directed",
         "1"
        ],
        [
         "13",
         "visitorfi5kl7q7i",
         "h4ca2an267okpa5m",
         "Directed",
         "1"
        ],
        [
         "14",
         "visitorfi5kl7q7i",
         "iwxicbrknwnl4qyl",
         "Directed",
         "1"
        ],
        [
         "15",
         "visitorfi5kl7q7i",
         "palantirbhqyufyu",
         "Directed",
         "1"
        ],
        [
         "16",
         "visitorfi5kl7q7i",
         "q2sg67ft4cdvjlfv",
         "Directed",
         "1"
        ],
        [
         "17",
         "visitorfi5kl7q7i",
         "nr25kb2m2jurpd5e",
         "Directed",
         "1"
        ],
        [
         "18",
         "visitorfi5kl7q7i",
         "jpre3ta3x2csggd4",
         "Directed",
         "1"
        ],
        [
         "19",
         "visitorfi5kl7q7i",
         "dollarseraw6lxja",
         "Directed",
         "1"
        ],
        [
         "20",
         "visitorfi5kl7q7i",
         "helpu2ov4khcxtyi",
         "Directed",
         "1"
        ],
        [
         "21",
         "visitorfi5kl7q7i",
         "entropisth3ctkzd",
         "Directed",
         "1"
        ],
        [
         "22",
         "visitorfi5kl7q7i",
         "gkgwhrau5yejzizo",
         "Directed",
         "1"
        ],
        [
         "23",
         "visitorfi5kl7q7i",
         "ovc2s56sxugqfabg",
         "Directed",
         "1"
        ],
        [
         "24",
         "visitorfi5kl7q7i",
         "artsmankindxgcv5",
         "Directed",
         "1"
        ],
        [
         "25",
         "visitorfi5kl7q7i",
         "xilliayhoiuv5qmk",
         "Directed",
         "1"
        ],
        [
         "26",
         "visitorfi5kl7q7i",
         "ppasset42kropoy6",
         "Directed",
         "1"
        ],
        [
         "27",
         "visitorfi5kl7q7i",
         "fczo4gjdvahyg72c",
         "Directed",
         "1"
        ],
        [
         "28",
         "visitorfi5kl7q7i",
         "zsjcgkysxbds65as",
         "Directed",
         "1"
        ],
        [
         "29",
         "visitorfi5kl7q7i",
         "linksjjoxj5vf7p7",
         "Directed",
         "1"
        ],
        [
         "30",
         "visitorfi5kl7q7i",
         "mk3zwxwllva7u6bj",
         "Directed",
         "1"
        ],
        [
         "31",
         "visitorfi5kl7q7i",
         "t3tzzluk6it7y3yh",
         "Directed",
         "1"
        ],
        [
         "32",
         "visitorfi5kl7q7i",
         "5fpp2orjc2ejd2g7",
         "Directed",
         "1"
        ],
        [
         "33",
         "visitorfi5kl7q7i",
         "ozpm7oztkaejlvpr",
         "Directed",
         "1"
        ],
        [
         "34",
         "visitorfi5kl7q7i",
         "jqs44zhtxl2uo6gk",
         "Directed",
         "1"
        ],
        [
         "35",
         "visitorfi5kl7q7i",
         "v3gajvwgt3axrlqz",
         "Directed",
         "1"
        ],
        [
         "36",
         "visitorfi5kl7q7i",
         "anonymizer5lg2fz",
         "Directed",
         "1"
        ],
        [
         "37",
         "visitorfi5kl7q7i",
         "kjk4qvgg6usnvwyh",
         "Directed",
         "1"
        ],
        [
         "38",
         "visitorfi5kl7q7i",
         "5j7saze5byfqccf3",
         "Directed",
         "1"
        ],
        [
         "39",
         "visitorfi5kl7q7i",
         "t352fwt225ao5mom",
         "Directed",
         "1"
        ],
        [
         "40",
         "visitorfi5kl7q7i",
         "5v6psw5oqdurbpaq",
         "Directed",
         "1"
        ],
        [
         "41",
         "visitorfi5kl7q7i",
         "oddsasmtc5gglatg",
         "Directed",
         "1"
        ],
        [
         "42",
         "visitorfi5kl7q7i",
         "brmmnc4tgirirmte",
         "Directed",
         "1"
        ],
        [
         "43",
         "visitorfi5kl7q7i",
         "llog7jcaukpkulbh",
         "Directed",
         "1"
        ],
        [
         "44",
         "visitorfi5kl7q7i",
         "3dnrb7a7pibooe5h",
         "Directed",
         "1"
        ],
        [
         "45",
         "visitorfi5kl7q7i",
         "btcxlooxqzvqm2qi",
         "Directed",
         "1"
        ],
        [
         "46",
         "visitorfi5kl7q7i",
         "dltoolsafn5gbwgg",
         "Directed",
         "1"
        ],
        [
         "47",
         "visitorfi5kl7q7i",
         "4i2buejx36fvfsjm",
         "Directed",
         "1"
        ],
        [
         "48",
         "visitorfi5kl7q7i",
         "prepaid3jdde64ro",
         "Directed",
         "1"
        ],
        [
         "49",
         "visitorfi5kl7q7i",
         "zrxdzzwlxd35tbf5",
         "Directed",
         "1"
        ]
       ],
       "shape": {
        "columns": 4,
        "rows": 25104
       }
      },
      "text/html": [
       "<div>\n",
       "<style scoped>\n",
       "    .dataframe tbody tr th:only-of-type {\n",
       "        vertical-align: middle;\n",
       "    }\n",
       "\n",
       "    .dataframe tbody tr th {\n",
       "        vertical-align: top;\n",
       "    }\n",
       "\n",
       "    .dataframe thead th {\n",
       "        text-align: right;\n",
       "    }\n",
       "</style>\n",
       "<table border=\"1\" class=\"dataframe\">\n",
       "  <thead>\n",
       "    <tr style=\"text-align: right;\">\n",
       "      <th></th>\n",
       "      <th>Source</th>\n",
       "      <th>Target</th>\n",
       "      <th>Type</th>\n",
       "      <th>Weight</th>\n",
       "    </tr>\n",
       "  </thead>\n",
       "  <tbody>\n",
       "    <tr>\n",
       "      <th>0</th>\n",
       "      <td>visitorfi5kl7q7i</td>\n",
       "      <td>uisspxbl7ipc5bet</td>\n",
       "      <td>Directed</td>\n",
       "      <td>1</td>\n",
       "    </tr>\n",
       "    <tr>\n",
       "      <th>1</th>\n",
       "      <td>visitorfi5kl7q7i</td>\n",
       "      <td>xidp5a5k3rlxr5r3</td>\n",
       "      <td>Directed</td>\n",
       "      <td>1</td>\n",
       "    </tr>\n",
       "    <tr>\n",
       "      <th>2</th>\n",
       "      <td>visitorfi5kl7q7i</td>\n",
       "      <td>7uvijlsswycvih2p</td>\n",
       "      <td>Directed</td>\n",
       "      <td>1</td>\n",
       "    </tr>\n",
       "    <tr>\n",
       "      <th>3</th>\n",
       "      <td>visitorfi5kl7q7i</td>\n",
       "      <td>4oy7nsv57l3ragqz</td>\n",
       "      <td>Directed</td>\n",
       "      <td>1</td>\n",
       "    </tr>\n",
       "    <tr>\n",
       "      <th>4</th>\n",
       "      <td>visitorfi5kl7q7i</td>\n",
       "      <td>prometh5th5t5rfd</td>\n",
       "      <td>Directed</td>\n",
       "      <td>1</td>\n",
       "    </tr>\n",
       "    <tr>\n",
       "      <th>...</th>\n",
       "      <td>...</td>\n",
       "      <td>...</td>\n",
       "      <td>...</td>\n",
       "      <td>...</td>\n",
       "    </tr>\n",
       "    <tr>\n",
       "      <th>25099</th>\n",
       "      <td>jzsm6raa2iw3hkue</td>\n",
       "      <td>tt3j2x4k5ycaa5zt</td>\n",
       "      <td>Directed</td>\n",
       "      <td>1</td>\n",
       "    </tr>\n",
       "    <tr>\n",
       "      <th>25100</th>\n",
       "      <td>3prjgaibgjpkkknu</td>\n",
       "      <td>tt3j2x4k5ycaa5zt</td>\n",
       "      <td>Directed</td>\n",
       "      <td>3</td>\n",
       "    </tr>\n",
       "    <tr>\n",
       "      <th>25101</th>\n",
       "      <td>grams5ieqi6zi3n7</td>\n",
       "      <td>toradsc6vvmtugty</td>\n",
       "      <td>Directed</td>\n",
       "      <td>1</td>\n",
       "    </tr>\n",
       "    <tr>\n",
       "      <th>25102</th>\n",
       "      <td>ijb7rxextmnhkd76</td>\n",
       "      <td>torvps7kzis5ujfz</td>\n",
       "      <td>Directed</td>\n",
       "      <td>3</td>\n",
       "    </tr>\n",
       "    <tr>\n",
       "      <th>25103</th>\n",
       "      <td>youmad6gb7kvr7if</td>\n",
       "      <td>answerstedhctbek</td>\n",
       "      <td>Directed</td>\n",
       "      <td>5</td>\n",
       "    </tr>\n",
       "  </tbody>\n",
       "</table>\n",
       "<p>25104 rows × 4 columns</p>\n",
       "</div>"
      ],
      "text/plain": [
       "                 Source            Target      Type  Weight\n",
       "0      visitorfi5kl7q7i  uisspxbl7ipc5bet  Directed       1\n",
       "1      visitorfi5kl7q7i  xidp5a5k3rlxr5r3  Directed       1\n",
       "2      visitorfi5kl7q7i  7uvijlsswycvih2p  Directed       1\n",
       "3      visitorfi5kl7q7i  4oy7nsv57l3ragqz  Directed       1\n",
       "4      visitorfi5kl7q7i  prometh5th5t5rfd  Directed       1\n",
       "...                 ...               ...       ...     ...\n",
       "25099  jzsm6raa2iw3hkue  tt3j2x4k5ycaa5zt  Directed       1\n",
       "25100  3prjgaibgjpkkknu  tt3j2x4k5ycaa5zt  Directed       3\n",
       "25101  grams5ieqi6zi3n7  toradsc6vvmtugty  Directed       1\n",
       "25102  ijb7rxextmnhkd76  torvps7kzis5ujfz  Directed       3\n",
       "25103  youmad6gb7kvr7if  answerstedhctbek  Directed       5\n",
       "\n",
       "[25104 rows x 4 columns]"
      ]
     },
     "execution_count": 20,
     "metadata": {},
     "output_type": "execute_result"
    }
   ],
   "source": [
    "import src.utils as utils\n",
    "\n",
    "nodes, edges = utils.load_data()\n",
    "\n"
   ]
  }
 ],
 "metadata": {
  "kernelspec": {
   "display_name": "base",
   "language": "python",
   "name": "python3"
  },
  "language_info": {
   "codemirror_mode": {
    "name": "ipython",
    "version": 3
   },
   "file_extension": ".py",
   "mimetype": "text/x-python",
   "name": "python",
   "nbconvert_exporter": "python",
   "pygments_lexer": "ipython3",
   "version": "3.13.5"
  }
 },
 "nbformat": 4,
 "nbformat_minor": 2
>>>>>>> Stashed changes
}
