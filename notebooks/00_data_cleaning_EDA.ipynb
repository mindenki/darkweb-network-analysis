{
 "cells": [
  {
   "cell_type": "code",
   "execution_count": 1,
   "metadata": {},
   "outputs": [],
   "source": [
    "import pandas as pd\n",
    "import numpy as np\n",
    "import networkx as nx\n",
    "import matplotlib.pyplot as plt\n",
    "import os\n",
    "import pathlib\n",
    "import sys\n",
    "sys.path.append(os.path.abspath(os.path.join(os.getcwd(), '..')))"
   ]
  },
  {
   "cell_type": "code",
   "execution_count": 3,
   "metadata": {},
   "outputs": [
    {
     "data": {
      "application/vnd.microsoft.datawrangler.viewer.v0+json": {
       "columns": [
        {
         "name": "index",
         "rawType": "int64",
         "type": "integer"
        },
        {
         "name": "Id",
         "rawType": "object",
         "type": "string"
        }
       ],
       "ref": "2ba8a7da-bcb5-4f22-9352-4afe6f394c87",
       "rows": [
        [
         "0",
         "visitorfi5kl7q7i"
        ],
        [
         "1",
         "uisspxbl7ipc5bet"
        ],
        [
         "2",
         "directoryvi6plzm"
        ],
        [
         "3",
         "telnetg42y5crrb7"
        ],
        [
         "4",
         "gl75awtvsmp2ofe6"
        ],
        [
         "5",
         "gxamjbnu7uknahng"
        ],
        [
         "6",
         "cratedvnn5z57xhl"
        ],
        [
         "7",
         "xidp5a5k3rlxr5r3"
        ],
        [
         "8",
         "kpvz7ki2lzvnwve7"
        ],
        [
         "9",
         "s5eqtd3hsfgu4czz"
        ],
        [
         "10",
         "wikiwarixvouhwyn"
        ],
        [
         "11",
         "7jkl2twalnpfrxia"
        ],
        [
         "12",
         "torvps7kzis5ujfz"
        ],
        [
         "13",
         "mail2tor2zyjdctd"
        ],
        [
         "14",
         "zg5kk7neg3mpulu2"
        ],
        [
         "15",
         "7uvijlsswycvih2p"
        ],
        [
         "16",
         "linkskgiymtyszdb"
        ],
        [
         "17",
         "ntcixulmms4275vi"
        ],
        [
         "18",
         "newpdsuslmzqazvr"
        ],
        [
         "19",
         "yzvbkubrphgtjaoh"
        ],
        [
         "20",
         "4oy7nsv57l3ragqz"
        ],
        [
         "21",
         "35flmpspwpnarbos"
        ],
        [
         "22",
         "skunksworkedp2cg"
        ],
        [
         "23",
         "grams3f3pvm3g7ph"
        ],
        [
         "24",
         "prometh5th5t5rfd"
        ],
        [
         "25",
         "darkmarabrstwfuh"
        ],
        [
         "26",
         "bankshopiweol3mv"
        ],
        [
         "27",
         "giyvshdnojeivkom"
        ],
        [
         "28",
         "bdpuqvl2ksq2vzs3"
        ],
        [
         "29",
         "syst3k2e5lysrei4"
        ],
        [
         "30",
         "gkqmy7ioqptiru5o"
        ],
        [
         "31",
         "linksjo6a4kvtzbu"
        ],
        [
         "32",
         "torlinkbgs6aabns"
        ],
        [
         "33",
         "s5q54hfww56ov2xc"
        ],
        [
         "34",
         "frwikisfa6myvgyx"
        ],
        [
         "35",
         "payshld6oxbu5eft"
        ],
        [
         "36",
         "vjxrcebsxvrtvl4u"
        ],
        [
         "37",
         "nqigfqrxnkwcqmiq"
        ],
        [
         "38",
         "c2djzrn6qx6kupkn"
        ],
        [
         "39",
         "khicksdkaloavedb"
        ],
        [
         "40",
         "drkseidwayn6uc5x"
        ],
        [
         "41",
         "wikitjerrta4qgz4"
        ],
        [
         "42",
         "xiwayy2kn32bo3ko"
        ],
        [
         "43",
         "zgrl6sghf5jh37zz"
        ],
        [
         "44",
         "auutwvpt2zktxwng"
        ],
        [
         "45",
         "otmbrbthhqhlmzee"
        ],
        [
         "46",
         "n6pbizsbykwxmydz"
        ],
        [
         "47",
         "zj45fq6q5f7m56z2"
        ],
        [
         "48",
         "yipeptidsl75eri7"
        ],
        [
         "49",
         "cnekwx4kmgztzgxq"
        ]
       ],
       "shape": {
        "columns": 1,
        "rows": 7178
       }
      },
      "text/html": [
       "<div>\n",
       "<style scoped>\n",
       "    .dataframe tbody tr th:only-of-type {\n",
       "        vertical-align: middle;\n",
       "    }\n",
       "\n",
       "    .dataframe tbody tr th {\n",
       "        vertical-align: top;\n",
       "    }\n",
       "\n",
       "    .dataframe thead th {\n",
       "        text-align: right;\n",
       "    }\n",
       "</style>\n",
       "<table border=\"1\" class=\"dataframe\">\n",
       "  <thead>\n",
       "    <tr style=\"text-align: right;\">\n",
       "      <th></th>\n",
       "      <th>Id</th>\n",
       "    </tr>\n",
       "  </thead>\n",
       "  <tbody>\n",
       "    <tr>\n",
       "      <th>0</th>\n",
       "      <td>visitorfi5kl7q7i</td>\n",
       "    </tr>\n",
       "    <tr>\n",
       "      <th>1</th>\n",
       "      <td>uisspxbl7ipc5bet</td>\n",
       "    </tr>\n",
       "    <tr>\n",
       "      <th>2</th>\n",
       "      <td>directoryvi6plzm</td>\n",
       "    </tr>\n",
       "    <tr>\n",
       "      <th>3</th>\n",
       "      <td>telnetg42y5crrb7</td>\n",
       "    </tr>\n",
       "    <tr>\n",
       "      <th>4</th>\n",
       "      <td>gl75awtvsmp2ofe6</td>\n",
       "    </tr>\n",
       "    <tr>\n",
       "      <th>...</th>\n",
       "      <td>...</td>\n",
       "    </tr>\n",
       "    <tr>\n",
       "      <th>7173</th>\n",
       "      <td>4co7hns6t7qt22ix</td>\n",
       "    </tr>\n",
       "    <tr>\n",
       "      <th>7174</th>\n",
       "      <td>mwprbruk4sc5t4li</td>\n",
       "    </tr>\n",
       "    <tr>\n",
       "      <th>7175</th>\n",
       "      <td>vysoofjtouvo2bl3</td>\n",
       "    </tr>\n",
       "    <tr>\n",
       "      <th>7176</th>\n",
       "      <td>lxvfo33z43yd6piu</td>\n",
       "    </tr>\n",
       "    <tr>\n",
       "      <th>7177</th>\n",
       "      <td>nucleusath7kmodw</td>\n",
       "    </tr>\n",
       "  </tbody>\n",
       "</table>\n",
       "<p>7178 rows × 1 columns</p>\n",
       "</div>"
      ],
      "text/plain": [
       "                    Id\n",
       "0     visitorfi5kl7q7i\n",
       "1     uisspxbl7ipc5bet\n",
       "2     directoryvi6plzm\n",
       "3     telnetg42y5crrb7\n",
       "4     gl75awtvsmp2ofe6\n",
       "...                ...\n",
       "7173  4co7hns6t7qt22ix\n",
       "7174  mwprbruk4sc5t4li\n",
       "7175  vysoofjtouvo2bl3\n",
       "7176  lxvfo33z43yd6piu\n",
       "7177  nucleusath7kmodw\n",
       "\n",
       "[7178 rows x 1 columns]"
      ]
     },
     "execution_count": 3,
     "metadata": {},
     "output_type": "execute_result"
    }
   ],
   "source": [
    "from src import utils\n",
    "\n",
    "nodes, edges = utils.load_data()\n",
    "nodes.drop(columns=['Label'], inplace=True)\n",
    "nodes\n"
   ]
  },
  {
   "cell_type": "code",
   "execution_count": 7,
   "metadata": {},
   "outputs": [
    {
     "data": {
      "application/vnd.microsoft.datawrangler.viewer.v0+json": {
       "columns": [
        {
         "name": "index",
         "rawType": "int64",
         "type": "integer"
        },
        {
         "name": "Source",
         "rawType": "object",
         "type": "string"
        },
        {
         "name": "Target",
         "rawType": "object",
         "type": "string"
        },
        {
         "name": "Weight",
         "rawType": "int64",
         "type": "integer"
        }
       ],
       "ref": "72deccf2-411c-4a21-abd0-d56a2e006538",
       "rows": [
        [
         "0",
         "visitorfi5kl7q7i",
         "uisspxbl7ipc5bet",
         "1"
        ],
        [
         "1",
         "visitorfi5kl7q7i",
         "xidp5a5k3rlxr5r3",
         "1"
        ],
        [
         "2",
         "visitorfi5kl7q7i",
         "7uvijlsswycvih2p",
         "1"
        ],
        [
         "3",
         "visitorfi5kl7q7i",
         "4oy7nsv57l3ragqz",
         "1"
        ],
        [
         "4",
         "visitorfi5kl7q7i",
         "prometh5th5t5rfd",
         "1"
        ],
        [
         "5",
         "visitorfi5kl7q7i",
         "bdpuqvl2ksq2vzs3",
         "1"
        ],
        [
         "6",
         "visitorfi5kl7q7i",
         "yipeptidsl75eri7",
         "1"
        ],
        [
         "7",
         "visitorfi5kl7q7i",
         "lubzpslfl3nnvqzn",
         "1"
        ],
        [
         "8",
         "visitorfi5kl7q7i",
         "22ozauzmrn3zxkog",
         "1"
        ],
        [
         "9",
         "visitorfi5kl7q7i",
         "imb27556jpb6g65j",
         "1"
        ],
        [
         "10",
         "visitorfi5kl7q7i",
         "phmsga42i3bom7xu",
         "1"
        ],
        [
         "11",
         "visitorfi5kl7q7i",
         "yowlss6f6fvpd4e6",
         "1"
        ],
        [
         "12",
         "visitorfi5kl7q7i",
         "udsmewv45lunzoo4",
         "1"
        ],
        [
         "13",
         "visitorfi5kl7q7i",
         "h4ca2an267okpa5m",
         "1"
        ],
        [
         "14",
         "visitorfi5kl7q7i",
         "iwxicbrknwnl4qyl",
         "1"
        ],
        [
         "15",
         "visitorfi5kl7q7i",
         "palantirbhqyufyu",
         "1"
        ],
        [
         "16",
         "visitorfi5kl7q7i",
         "q2sg67ft4cdvjlfv",
         "1"
        ],
        [
         "17",
         "visitorfi5kl7q7i",
         "nr25kb2m2jurpd5e",
         "1"
        ],
        [
         "18",
         "visitorfi5kl7q7i",
         "jpre3ta3x2csggd4",
         "1"
        ],
        [
         "19",
         "visitorfi5kl7q7i",
         "dollarseraw6lxja",
         "1"
        ],
        [
         "20",
         "visitorfi5kl7q7i",
         "helpu2ov4khcxtyi",
         "1"
        ],
        [
         "21",
         "visitorfi5kl7q7i",
         "entropisth3ctkzd",
         "1"
        ],
        [
         "22",
         "visitorfi5kl7q7i",
         "gkgwhrau5yejzizo",
         "1"
        ],
        [
         "23",
         "visitorfi5kl7q7i",
         "ovc2s56sxugqfabg",
         "1"
        ],
        [
         "24",
         "visitorfi5kl7q7i",
         "artsmankindxgcv5",
         "1"
        ],
        [
         "25",
         "visitorfi5kl7q7i",
         "xilliayhoiuv5qmk",
         "1"
        ],
        [
         "26",
         "visitorfi5kl7q7i",
         "ppasset42kropoy6",
         "1"
        ],
        [
         "27",
         "visitorfi5kl7q7i",
         "fczo4gjdvahyg72c",
         "1"
        ],
        [
         "28",
         "visitorfi5kl7q7i",
         "zsjcgkysxbds65as",
         "1"
        ],
        [
         "29",
         "visitorfi5kl7q7i",
         "linksjjoxj5vf7p7",
         "1"
        ],
        [
         "30",
         "visitorfi5kl7q7i",
         "mk3zwxwllva7u6bj",
         "1"
        ],
        [
         "31",
         "visitorfi5kl7q7i",
         "t3tzzluk6it7y3yh",
         "1"
        ],
        [
         "32",
         "visitorfi5kl7q7i",
         "5fpp2orjc2ejd2g7",
         "1"
        ],
        [
         "33",
         "visitorfi5kl7q7i",
         "ozpm7oztkaejlvpr",
         "1"
        ],
        [
         "34",
         "visitorfi5kl7q7i",
         "jqs44zhtxl2uo6gk",
         "1"
        ],
        [
         "35",
         "visitorfi5kl7q7i",
         "v3gajvwgt3axrlqz",
         "1"
        ],
        [
         "36",
         "visitorfi5kl7q7i",
         "anonymizer5lg2fz",
         "1"
        ],
        [
         "37",
         "visitorfi5kl7q7i",
         "kjk4qvgg6usnvwyh",
         "1"
        ],
        [
         "38",
         "visitorfi5kl7q7i",
         "5j7saze5byfqccf3",
         "1"
        ],
        [
         "39",
         "visitorfi5kl7q7i",
         "t352fwt225ao5mom",
         "1"
        ],
        [
         "40",
         "visitorfi5kl7q7i",
         "5v6psw5oqdurbpaq",
         "1"
        ],
        [
         "41",
         "visitorfi5kl7q7i",
         "oddsasmtc5gglatg",
         "1"
        ],
        [
         "42",
         "visitorfi5kl7q7i",
         "brmmnc4tgirirmte",
         "1"
        ],
        [
         "43",
         "visitorfi5kl7q7i",
         "llog7jcaukpkulbh",
         "1"
        ],
        [
         "44",
         "visitorfi5kl7q7i",
         "3dnrb7a7pibooe5h",
         "1"
        ],
        [
         "45",
         "visitorfi5kl7q7i",
         "btcxlooxqzvqm2qi",
         "1"
        ],
        [
         "46",
         "visitorfi5kl7q7i",
         "dltoolsafn5gbwgg",
         "1"
        ],
        [
         "47",
         "visitorfi5kl7q7i",
         "4i2buejx36fvfsjm",
         "1"
        ],
        [
         "48",
         "visitorfi5kl7q7i",
         "prepaid3jdde64ro",
         "1"
        ],
        [
         "49",
         "visitorfi5kl7q7i",
         "zrxdzzwlxd35tbf5",
         "1"
        ]
       ],
       "shape": {
        "columns": 3,
        "rows": 25104
       }
      },
      "text/html": [
       "<div>\n",
       "<style scoped>\n",
       "    .dataframe tbody tr th:only-of-type {\n",
       "        vertical-align: middle;\n",
       "    }\n",
       "\n",
       "    .dataframe tbody tr th {\n",
       "        vertical-align: top;\n",
       "    }\n",
       "\n",
       "    .dataframe thead th {\n",
       "        text-align: right;\n",
       "    }\n",
       "</style>\n",
       "<table border=\"1\" class=\"dataframe\">\n",
       "  <thead>\n",
       "    <tr style=\"text-align: right;\">\n",
       "      <th></th>\n",
       "      <th>Source</th>\n",
       "      <th>Target</th>\n",
       "      <th>Weight</th>\n",
       "    </tr>\n",
       "  </thead>\n",
       "  <tbody>\n",
       "    <tr>\n",
       "      <th>0</th>\n",
       "      <td>visitorfi5kl7q7i</td>\n",
       "      <td>uisspxbl7ipc5bet</td>\n",
       "      <td>1</td>\n",
       "    </tr>\n",
       "    <tr>\n",
       "      <th>1</th>\n",
       "      <td>visitorfi5kl7q7i</td>\n",
       "      <td>xidp5a5k3rlxr5r3</td>\n",
       "      <td>1</td>\n",
       "    </tr>\n",
       "    <tr>\n",
       "      <th>2</th>\n",
       "      <td>visitorfi5kl7q7i</td>\n",
       "      <td>7uvijlsswycvih2p</td>\n",
       "      <td>1</td>\n",
       "    </tr>\n",
       "    <tr>\n",
       "      <th>3</th>\n",
       "      <td>visitorfi5kl7q7i</td>\n",
       "      <td>4oy7nsv57l3ragqz</td>\n",
       "      <td>1</td>\n",
       "    </tr>\n",
       "    <tr>\n",
       "      <th>4</th>\n",
       "      <td>visitorfi5kl7q7i</td>\n",
       "      <td>prometh5th5t5rfd</td>\n",
       "      <td>1</td>\n",
       "    </tr>\n",
       "    <tr>\n",
       "      <th>...</th>\n",
       "      <td>...</td>\n",
       "      <td>...</td>\n",
       "      <td>...</td>\n",
       "    </tr>\n",
       "    <tr>\n",
       "      <th>25099</th>\n",
       "      <td>jzsm6raa2iw3hkue</td>\n",
       "      <td>tt3j2x4k5ycaa5zt</td>\n",
       "      <td>1</td>\n",
       "    </tr>\n",
       "    <tr>\n",
       "      <th>25100</th>\n",
       "      <td>3prjgaibgjpkkknu</td>\n",
       "      <td>tt3j2x4k5ycaa5zt</td>\n",
       "      <td>3</td>\n",
       "    </tr>\n",
       "    <tr>\n",
       "      <th>25101</th>\n",
       "      <td>grams5ieqi6zi3n7</td>\n",
       "      <td>toradsc6vvmtugty</td>\n",
       "      <td>1</td>\n",
       "    </tr>\n",
       "    <tr>\n",
       "      <th>25102</th>\n",
       "      <td>ijb7rxextmnhkd76</td>\n",
       "      <td>torvps7kzis5ujfz</td>\n",
       "      <td>3</td>\n",
       "    </tr>\n",
       "    <tr>\n",
       "      <th>25103</th>\n",
       "      <td>youmad6gb7kvr7if</td>\n",
       "      <td>answerstedhctbek</td>\n",
       "      <td>5</td>\n",
       "    </tr>\n",
       "  </tbody>\n",
       "</table>\n",
       "<p>25104 rows × 3 columns</p>\n",
       "</div>"
      ],
      "text/plain": [
       "                 Source            Target  Weight\n",
       "0      visitorfi5kl7q7i  uisspxbl7ipc5bet       1\n",
       "1      visitorfi5kl7q7i  xidp5a5k3rlxr5r3       1\n",
       "2      visitorfi5kl7q7i  7uvijlsswycvih2p       1\n",
       "3      visitorfi5kl7q7i  4oy7nsv57l3ragqz       1\n",
       "4      visitorfi5kl7q7i  prometh5th5t5rfd       1\n",
       "...                 ...               ...     ...\n",
       "25099  jzsm6raa2iw3hkue  tt3j2x4k5ycaa5zt       1\n",
       "25100  3prjgaibgjpkkknu  tt3j2x4k5ycaa5zt       3\n",
       "25101  grams5ieqi6zi3n7  toradsc6vvmtugty       1\n",
       "25102  ijb7rxextmnhkd76  torvps7kzis5ujfz       3\n",
       "25103  youmad6gb7kvr7if  answerstedhctbek       5\n",
       "\n",
       "[25104 rows x 3 columns]"
      ]
     },
     "execution_count": 7,
     "metadata": {},
     "output_type": "execute_result"
    }
   ],
   "source": [
    "edges.drop(columns=['Type'], inplace=True)\n",
    "edges"
   ]
  }
 ],
 "metadata": {
  "kernelspec": {
   "display_name": "base",
   "language": "python",
   "name": "python3"
  },
  "language_info": {
   "codemirror_mode": {
    "name": "ipython",
    "version": 3
   },
   "file_extension": ".py",
   "mimetype": "text/x-python",
   "name": "python",
   "nbconvert_exporter": "python",
   "pygments_lexer": "ipython3",
   "version": "3.13.5"
  }
 },
 "nbformat": 4,
 "nbformat_minor": 2
}
